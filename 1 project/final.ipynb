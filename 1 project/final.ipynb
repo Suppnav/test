{
 "cells": [
  {
   "cell_type": "markdown",
   "metadata": {},
   "source": [
    "Игра \"Угадай число\"\n",
    "Компьютер сам загадывает и сам угадывает число."
   ]
  },
  {
   "cell_type": "markdown",
   "metadata": {},
   "source": [
    "Импортируем библиотеку, которая нам пригодится для генерации случайных чисел."
   ]
  },
  {
   "cell_type": "code",
   "execution_count": 46,
   "metadata": {},
   "outputs": [
    {
     "name": "stdout",
     "output_type": "stream",
     "text": [
      "Наш алгоритм угадывает число в среднем за:8 попыток\n"
     ]
    }
   ],
   "source": [
    "import numpy as np  #Импортируем библиотеку, которая нам пригодится для генерации случайных чисел.\n",
    "from numpy import random\n",
    "\n",
    "number = np.random.randint(1, 101) # загадываем число\n",
    "\n",
    "def game_core_v3(number: int = 1) -> int: #Вариант третий, изменение границ вычисления вероятного числа\n",
    "    \"\"\"Сначала устанавливаем любое random число, а потом изменям границы поиска в зависимости от того, больше оно или меньше нужного.\n",
    "    Т.е. если загаданное число больше вероятного, то нижнию границу для генерации вероятного числа принимаем равной вероятному.\n",
    "    Т.е. если загаданное число меньше вероятного, то верхнюю границу для генерации вероятного числа принимаем равной вероятному.\n",
    "    Повторяем вычисление выроятного числа в рамках новых границ.\n",
    "    \n",
    "       Функция принимает загаданное число и возвращает число попыток \n",
    "       \n",
    "    Args:\n",
    "        number (int, optional): Загаданное число. Defaults to 1.\n",
    "\n",
    "    Returns:\n",
    "        int: Число попыток\n",
    "    \"\"\"\n",
    "    limit_a = 1\n",
    "    count = 0\n",
    "    limit_b = 101\n",
    "    predict = np.random.randint(1, 101)\n",
    "    \n",
    "    while number != predict:  \n",
    "        count += 1\n",
    "        predict = np.random.randint(limit_a, limit_b)\n",
    "        if number > predict:\n",
    "            limit_a = predict\n",
    "                       \n",
    "        elif number < predict:\n",
    "            limit_b = predict\n",
    "    return count\n",
    "\n",
    "\n",
    "def score_game(random_predict) -> int: #функция вычисления среднего количества попыток\n",
    "    \"\"\"За какое количство попыток в среднем за 10000 подходов угадывает наш алгоритм\n",
    "\n",
    "    Args:\n",
    "        random_predict ([type]): функция угадывания\n",
    "\n",
    "    Returns:\n",
    "        int: среднее количество попыток\n",
    "    \"\"\"\n",
    "    count_ls = []\n",
    "    np.random.seed(1)  # фиксируем сид для воспроизводимости\n",
    "    random_array = np.random.randint(1, 101, size=(10000))  # загадали список чисел\n",
    "\n",
    "    for number in random_array:\n",
    "        count_ls.append(random_predict(number))\n",
    "\n",
    "    score = int(np.mean(count_ls))\n",
    "    print(f\"Наш алгоритм угадывает число в среднем за:{score} попыток\")\n",
    "    return score\n",
    "\n",
    "\n",
    "if __name__ == \"__main__\":\n",
    "    # RUN\n",
    "    score_game(game_core_v3)"
   ]
  }
 ],
 "metadata": {
  "interpreter": {
   "hash": "05f069ad8425f57eb645e7281787ae7d2e0bd4753e1ae64c7fc13268a8404d34"
  },
  "kernelspec": {
   "display_name": "Python 3.10.0 64-bit ('nik': conda)",
   "language": "python",
   "name": "python3"
  },
  "language_info": {
   "codemirror_mode": {
    "name": "ipython",
    "version": 3
   },
   "file_extension": ".py",
   "mimetype": "text/x-python",
   "name": "python",
   "nbconvert_exporter": "python",
   "pygments_lexer": "ipython3",
   "version": "3.10.0"
  },
  "orig_nbformat": 4
 },
 "nbformat": 4,
 "nbformat_minor": 2
}

{
  "cells": [
    {
      "cell_type": "markdown",
      "metadata": {
        "id": "view-in-github",
        "colab_type": "text"
      },
      "source": [
        "<a href=\"https://colab.research.google.com/github/Suppnav/test/blob/main/baseline.ipynb\" target=\"_parent\"><img src=\"https://colab.research.google.com/assets/colab-badge.svg\" alt=\"Open In Colab\"/></a>"
      ]
    },
    {
      "cell_type": "markdown",
      "metadata": {
        "id": "dWcE-y-N-2fE"
      },
      "source": [
        "# Угадай число\n",
        "Нужно написать программу, которая угадывает число за минимальное число попыток.\n",
        "\n",
        "## Условия соревнования\n",
        "- Компьютер загадывает целое число от 1 до 100, и нам его нужно угадать. Под «угадать», подразумевается «написать программу, которая угадывает число».    \n",
        "- Алгоритм учитывает информацию о том, больше ли случайное число или меньше нужного нам.\n",
        "- Необходимо добиться того, чтобы программа угадывала число меньше, чем за 20 попыток. \n"
      ]
    },
    {
      "cell_type": "code",
      "execution_count": null,
      "metadata": {
        "id": "8fYFyLKIP59e"
      },
      "outputs": [],
      "source": [
        "\n",
        "import numpy as np\n",
        "''\n",
        "number = np.random.randint (1, 101)\n",
        "count = 0\n",
        "while True:\n",
        "  count+=1\n",
        "  predict_number = int (input (\"Загадай число от 1 до 100: \"))\n",
        "\n",
        "  if predict_number > number:\n",
        "      print (\"Число должно быть меньше\")\n",
        "\n",
        "  elif predict_number < number:\n",
        "      print (\"Число должно быть больше\")\n",
        "\n",
        "  else:\n",
        "      print (f\"Число угадано! Это число = {number}, за {count} попыток\")\n",
        "      break\n",
        "\n"
      ]
    },
    {
      "cell_type": "code",
      "execution_count": null,
      "metadata": {
        "id": "7lRn_kpofKtz",
        "colab": {
          "base_uri": "https://localhost:8080/"
        },
        "outputId": "17d35c06-850d-4e99-94dd-10e9344ddcfe"
      },
      "outputs": [
        {
          "output_type": "execute_result",
          "data": {
            "text/plain": [
              "5"
            ]
          },
          "metadata": {},
          "execution_count": 3
        }
      ],
      "source": [
        "5\n"
      ]
    },
    {
      "cell_type": "code",
      "execution_count": null,
      "metadata": {
        "id": "PJimMphnfLJ5"
      },
      "outputs": [],
      "source": [
        ""
      ]
    },
    {
      "cell_type": "markdown",
      "metadata": {
        "id": "4sShzLei_ClF"
      },
      "source": [
        "Импортируем библиотеку, которая нам пригодится для генерации случайных чисел. В следующих темах вы познакомитесь с ней подробнее:"
      ]
    },
    {
      "cell_type": "code",
      "execution_count": null,
      "metadata": {
        "id": "KIy8PgXL-2fH"
      },
      "outputs": [],
      "source": [
        "import numpy as np\n",
        "from numpy import random"
      ]
    },
    {
      "cell_type": "markdown",
      "metadata": {
        "id": "jf8LUtxQBChn"
      },
      "source": [
        "Ниже уже даны два простейших подхода к решению этой задачи. Посмотрим на них. "
      ]
    },
    {
      "cell_type": "markdown",
      "metadata": {
        "id": "shciKwTp-2fJ"
      },
      "source": [
        "## Подход 1: Случайное угадывание"
      ]
    },
    {
      "cell_type": "markdown",
      "metadata": {
        "id": "XCYf-uZa-_Oa"
      },
      "source": [
        "Простейший способ решения: научить программу случайным образом выбирать число до тех пор, пока оно не будет угадано. Этот способ не дает хорошего результата, однако будет для нас хорошей стартовой точкой."
      ]
    },
    {
      "cell_type": "code",
      "execution_count": null,
      "metadata": {
        "id": "pJaQGNND-2fK"
      },
      "outputs": [],
      "source": [
        "def random_predict(number: int = 1) -> int:\n",
        "    \"\"\"Просто угадываем на random, никак не используя информацию о больше или меньше.\n",
        "       Функция принимает загаданное число и возвращает число попыток\n",
        "\n",
        "    Args:\n",
        "        number (int, optional): Загаданное число. Defaults to 1.\n",
        "\n",
        "    Returns:\n",
        "        int: Число попыток\n",
        "    \"\"\"\n",
        "    count = 0\n",
        "\n",
        "    while True:\n",
        "        count += 1\n",
        "        predict_number = np.random.randint(1, 101)  # предполагаемое число\n",
        "        if number == predict_number:\n",
        "            break  # выход из цикла если угадали\n",
        "    \n",
        "    return count\n"
      ]
    },
    {
      "cell_type": "code",
      "execution_count": null,
      "metadata": {
        "colab": {
          "base_uri": "https://localhost:8080/"
        },
        "id": "pPMEWSbYc4Jl",
        "outputId": "0cf99635-8c27-48cd-b3aa-c2c4ee1f1c44"
      },
      "outputs": [
        {
          "output_type": "execute_result",
          "data": {
            "text/plain": [
              "107"
            ]
          },
          "metadata": {},
          "execution_count": 8
        }
      ],
      "source": [
        "random_predict(74)"
      ]
    },
    {
      "cell_type": "markdown",
      "metadata": {
        "id": "Da8TSXrE_2QC"
      },
      "source": [
        "## Подход 2: Угадывание с коррекцией"
      ]
    },
    {
      "cell_type": "markdown",
      "metadata": {
        "id": "UeFYnSZi_7uZ"
      },
      "source": [
        "Сначала устанавливаем любое случайное число, а потом уменьшаем или увеличиваем его в зависимости от того, больше оно или меньше нужного."
      ]
    },
    {
      "cell_type": "code",
      "execution_count": null,
      "metadata": {
        "colab": {
          "base_uri": "https://localhost:8080/"
        },
        "id": "bFzp7ROY_QYY",
        "outputId": "53366cec-7f1a-4706-df4c-bd8dbe7c8e22"
      },
      "outputs": [
        {
          "output_type": "execute_result",
          "data": {
            "text/plain": [
              "90"
            ]
          },
          "metadata": {},
          "execution_count": 3
        }
      ],
      "source": [
        "def game_core_v2(number: int = 1) -> int:\n",
        "    \"\"\"Сначала устанавливаем любое random число, а потом уменьшаем\n",
        "    или увеличиваем его в зависимости от того, больше оно или меньше нужного.\n",
        "       Функция принимает загаданное число и возвращает число попытокarrow_up в readme\n",
        "       \n",
        "    Args:\n",
        "        number (int, optional): Загаданное число. Defaults to 1.\n",
        "\n",
        "    Returns:\n",
        "        int: Число попыток\n",
        "    \"\"\"\n",
        "    count = 0\n",
        "    predict = np.random.randint(1, 101)\n",
        "    \n",
        "    while number != predict:\n",
        "        count += 1\n",
        "        if number > predict:\n",
        "            predict += 1\n",
        "        elif number < predict:\n",
        "            predict -= 1\n",
        "\n",
        "    return count\n",
        "\n",
        "game_core_v2(99)"
      ]
    },
    {
      "cell_type": "code",
      "source": [
        ""
      ],
      "metadata": {
        "id": "Hp67kq7xBQdv"
      },
      "execution_count": null,
      "outputs": []
    },
    {
      "cell_type": "code",
      "execution_count": null,
      "metadata": {
        "colab": {
          "base_uri": "https://localhost:8080/"
        },
        "id": "pZPOs1ljRyuz",
        "outputId": "6cd2e810-07bc-4803-9916-10184327e14f"
      },
      "outputs": [
        {
          "output_type": "execute_result",
          "data": {
            "text/plain": [
              "207"
            ]
          },
          "metadata": {},
          "execution_count": 4
        }
      ],
      "source": [
        "\n",
        "def game_core_v2(number: int = 1) -> int:\n",
        "    \"\"\"Сначала устанавливаем любое random число, а потом уменьшаем\n",
        "    или увеличиваем его в зависимости от того, больше оно или меньше нужного.\n",
        "       Функция принимает загаданное число и возвращает число попытокarrow_up в readme\n",
        "       \n",
        "    Args:\n",
        "        number (int, optional): Загаданное число. Defaults to 1.\n",
        "\n",
        "    Returns:\n",
        "        int: Число попыток\n",
        "    \"\"\"\n",
        "    limit_a = 1\n",
        "    count = 0\n",
        "    limit_b = 101\n",
        "    predict = np.random.randint(1, 101)\n",
        "    \n",
        "    while number != predict:  \n",
        "        count += 1\n",
        "        predict = np.random.randint(limit_a, limit_b)\n",
        "        if number > predict:\n",
        "            limit_b = number\n",
        "                       \n",
        "        elif number < predict:\n",
        "            limit_a = number\n",
        "    return count\n",
        "game_core_v2(35)\n"
      ]
    },
    {
      "cell_type": "code",
      "execution_count": null,
      "metadata": {
        "colab": {
          "base_uri": "https://localhost:8080/"
        },
        "id": "qAeopOivVVpL",
        "outputId": "efba2bb8-6f76-40a8-ba66-dbe0c04dd022"
      },
      "outputs": [
        {
          "output_type": "execute_result",
          "data": {
            "text/plain": [
              "25"
            ]
          },
          "metadata": {},
          "execution_count": 5
        }
      ],
      "source": [
        "import numpy as np\n",
        "from numpy import random\n",
        "def game_core_v2(number: int = 1) -> int:\n",
        "    \"\"\"Сначала устанавливаем любое random число, а потом уменьшаем\n",
        "    или увеличиваем его в зависимости от того, больше оно или меньше нужного.\n",
        "       Функция принимает загаданное число и возвращает число попытокarrow_up в readme\n",
        "       \n",
        "    Args:\n",
        "        number (int, optional): Загаданное число. Defaults to 1.\n",
        "\n",
        "    Returns:\n",
        "        int: Число попыток\n",
        "    \"\"\"\n",
        "    limit_a = 1\n",
        "    count = 0\n",
        "    limit_b = 101\n",
        "    predict = np.random.randint(limit_a, limit_b)\n",
        "    \n",
        "    while number != predict:\n",
        "        count += 1\n",
        "        if number > predict:\n",
        "            predict += 1\n",
        "            limit_b = number\n",
        "\n",
        "        elif number < predict:\n",
        "            predict -= 1\n",
        "            limit_a = number\n",
        "\n",
        "    return count\n",
        "game_core_v2(35)\n"
      ]
    },
    {
      "cell_type": "code",
      "execution_count": null,
      "metadata": {
        "id": "sbfKzzMvWJkw",
        "colab": {
          "base_uri": "https://localhost:8080/",
          "height": 322
        },
        "outputId": "c35bf17c-7959-4cde-b8d1-876d9f44581a"
      },
      "outputs": [
        {
          "output_type": "error",
          "ename": "KeyboardInterrupt",
          "evalue": "ignored",
          "traceback": [
            "\u001b[0;31m---------------------------------------------------------------------------\u001b[0m",
            "\u001b[0;31mKeyboardInterrupt\u001b[0m                         Traceback (most recent call last)",
            "\u001b[0;32m<ipython-input-7-b45f25956103>\u001b[0m in \u001b[0;36m<module>\u001b[0;34m()\u001b[0m\n\u001b[1;32m     19\u001b[0m \u001b[0;34m\u001b[0m\u001b[0m\n\u001b[1;32m     20\u001b[0m     \u001b[0;32mreturn\u001b[0m \u001b[0mcount\u001b[0m\u001b[0;34m\u001b[0m\u001b[0;34m\u001b[0m\u001b[0m\n\u001b[0;32m---> 21\u001b[0;31m \u001b[0mgame_core_v2\u001b[0m\u001b[0;34m(\u001b[0m\u001b[0;36m35\u001b[0m\u001b[0;34m)\u001b[0m\u001b[0;34m\u001b[0m\u001b[0;34m\u001b[0m\u001b[0m\n\u001b[0m",
            "\u001b[0;32m<ipython-input-7-b45f25956103>\u001b[0m in \u001b[0;36mgame_core_v2\u001b[0;34m(number)\u001b[0m\n\u001b[1;32m     11\u001b[0m         \u001b[0;32mif\u001b[0m \u001b[0mnumber\u001b[0m \u001b[0;34m>\u001b[0m \u001b[0mpredict\u001b[0m\u001b[0;34m:\u001b[0m\u001b[0;34m\u001b[0m\u001b[0;34m\u001b[0m\u001b[0m\n\u001b[1;32m     12\u001b[0m             \u001b[0mlimit_b\u001b[0m \u001b[0;34m=\u001b[0m \u001b[0mnumber\u001b[0m\u001b[0;34m\u001b[0m\u001b[0;34m\u001b[0m\u001b[0m\n\u001b[0;32m---> 13\u001b[0;31m             \u001b[0mpredict\u001b[0m \u001b[0;34m=\u001b[0m \u001b[0mnp\u001b[0m\u001b[0;34m.\u001b[0m\u001b[0mrandom\u001b[0m\u001b[0;34m.\u001b[0m\u001b[0mrandint\u001b[0m\u001b[0;34m(\u001b[0m\u001b[0mlimit_a\u001b[0m\u001b[0;34m,\u001b[0m \u001b[0mlimit_b\u001b[0m\u001b[0;34m)\u001b[0m\u001b[0;34m\u001b[0m\u001b[0;34m\u001b[0m\u001b[0m\n\u001b[0m\u001b[1;32m     14\u001b[0m \u001b[0;34m\u001b[0m\u001b[0m\n\u001b[1;32m     15\u001b[0m         \u001b[0;32melif\u001b[0m \u001b[0mnumber\u001b[0m \u001b[0;34m<\u001b[0m \u001b[0mpredict\u001b[0m\u001b[0;34m:\u001b[0m\u001b[0;34m\u001b[0m\u001b[0;34m\u001b[0m\u001b[0m\n",
            "\u001b[0;31mKeyboardInterrupt\u001b[0m: "
          ]
        }
      ],
      "source": [
        "import numpy as np\n",
        "from numpy import random\n",
        "def game_core_v2(number: int = 1) -> int:\n",
        "    limit_a = 1\n",
        "    count = 0\n",
        "    limit_b = 101\n",
        "    predict = np.random.randint(limit_a, limit_b)\n",
        "    \n",
        "    while number != predict:\n",
        "        count += 1\n",
        "        if number > predict:\n",
        "            limit_b = number\n",
        "            predict = np.random.randint(limit_a, limit_b)\n",
        "\n",
        "        elif number < predict:\n",
        "            limit_a = number\n",
        "            predict = np.random.randint(limit_a, limit_b)\n",
        "\n",
        "\n",
        "    return count\n",
        "game_core_v2(35)\n"
      ]
    },
    {
      "cell_type": "markdown",
      "metadata": {
        "id": "t3rDQ1wTBaXC"
      },
      "source": [
        "Посмотрим, как эти программы справляются с задачей."
      ]
    },
    {
      "cell_type": "markdown",
      "metadata": {
        "id": "GCu4m8fu_-al"
      },
      "source": [
        "## Функция для оценки"
      ]
    },
    {
      "cell_type": "markdown",
      "metadata": {
        "id": "jJSXAab0xHD7"
      },
      "source": [
        ""
      ]
    },
    {
      "cell_type": "markdown",
      "metadata": {
        "id": "7ZlAJ37fAJ99"
      },
      "source": [
        "Эта функция необходима, чтобы определить, за какое число попыток программа угадывает наше число."
      ]
    },
    {
      "cell_type": "code",
      "execution_count": null,
      "metadata": {
        "id": "t4WXEDFS_ThY"
      },
      "outputs": [],
      "source": [
        "def score_game(random_predict) -> int:\n",
        "    \"\"\"За какое количество попыток в среднем за 10000 подходов угадывает наш алгоритм\n",
        "\n",
        "    Args:\n",
        "        random_predict ([type]): функция угадывания\n",
        "\n",
        "    Returns:\n",
        "        int: среднее количество попыток\n",
        "    \"\"\"\n",
        "    count_ls = []\n",
        "    np.random.seed(1)  # фиксируем сид для воспроизводимости\n",
        "    random_array = np.random.randint(1, 101, size=(10000))  # загадали списоконлайн переводчик чисел\n",
        "\n",
        "    for number in random_array:\n",
        "        count_ls.append(random_predict(number))\n",
        "\n",
        "    score = int(np.mean(count_ls))\n",
        "    print(f\"Ваш алгоритм угадывает число в среднем за: {score} попытки\")"
      ]
    },
    {
      "cell_type": "markdown",
      "metadata": {
        "id": "PCC3-Hwz-2fL"
      },
      "source": [
        "### Оценка работы алгоритмов\n",
        "Определяем, какой подход лучше. "
      ]
    },
    {
      "cell_type": "code",
      "execution_count": null,
      "metadata": {
        "id": "khrxOcEB-2fM",
        "outputId": "d42e8406-ab3a-4e73-fe34-266fbe2cc6ab",
        "colab": {
          "base_uri": "https://localhost:8080/",
          "height": 252
        }
      },
      "outputs": [
        {
          "output_type": "stream",
          "name": "stdout",
          "text": [
            "Run benchmarking for random_predict: "
          ]
        },
        {
          "output_type": "error",
          "ename": "NameError",
          "evalue": "ignored",
          "traceback": [
            "\u001b[0;31m---------------------------------------------------------------------------\u001b[0m",
            "\u001b[0;31mNameError\u001b[0m                                 Traceback (most recent call last)",
            "\u001b[0;32m<ipython-input-1-4171e1cd3702>\u001b[0m in \u001b[0;36m<module>\u001b[0;34m()\u001b[0m\n\u001b[1;32m      1\u001b[0m \u001b[0;31m#Run benchmarking to score effectiveness of all algorithms\u001b[0m\u001b[0;34m\u001b[0m\u001b[0;34m\u001b[0m\u001b[0;34m\u001b[0m\u001b[0m\n\u001b[1;32m      2\u001b[0m \u001b[0mprint\u001b[0m\u001b[0;34m(\u001b[0m\u001b[0;34m'Run benchmarking for random_predict: '\u001b[0m\u001b[0;34m,\u001b[0m \u001b[0mend\u001b[0m\u001b[0;34m=\u001b[0m\u001b[0;34m''\u001b[0m\u001b[0;34m)\u001b[0m\u001b[0;34m\u001b[0m\u001b[0;34m\u001b[0m\u001b[0m\n\u001b[0;32m----> 3\u001b[0;31m \u001b[0mscore_game\u001b[0m\u001b[0;34m(\u001b[0m\u001b[0mrandom_predict\u001b[0m\u001b[0;34m)\u001b[0m\u001b[0;34m\u001b[0m\u001b[0;34m\u001b[0m\u001b[0m\n\u001b[0m\u001b[1;32m      4\u001b[0m \u001b[0;34m\u001b[0m\u001b[0m\n\u001b[1;32m      5\u001b[0m \u001b[0mprint\u001b[0m\u001b[0;34m(\u001b[0m\u001b[0;34m'Run benchmarking for game_core_v2: '\u001b[0m\u001b[0;34m,\u001b[0m \u001b[0mend\u001b[0m\u001b[0;34m=\u001b[0m\u001b[0;34m''\u001b[0m\u001b[0;34m)\u001b[0m\u001b[0;34m\u001b[0m\u001b[0;34m\u001b[0m\u001b[0m\n",
            "\u001b[0;31mNameError\u001b[0m: name 'score_game' is not defined"
          ]
        }
      ],
      "source": [
        "#Run benchmarking to score effectiveness of all algorithms\n",
        "print('Run benchmarking for random_predict: ', end='')\n",
        "score_game(random_predict)\n",
        "\n",
        "print('Run benchmarking for game_core_v2: ', end='')\n",
        "score_game(game_core_v2)"
      ]
    },
    {
      "cell_type": "code",
      "execution_count": null,
      "metadata": {
        "id": "12-TQnb0tayz"
      },
      "outputs": [],
      "source": [
        "\n"
      ]
    },
    {
      "cell_type": "markdown",
      "metadata": {
        "id": "ut1BGV0tuLsz"
      },
      "source": [
        ""
      ]
    },
    {
      "cell_type": "markdown",
      "metadata": {
        "id": "_H0wabPwBfRo"
      },
      "source": [
        "Как мы видим, две предложенные программы показывают не лучший результат.\n",
        "Теперь вы попробуете решить эту задачу и найти более обтимальный алгоритм."
      ]
    },
    {
      "cell_type": "markdown",
      "metadata": {
        "id": "ZIdPcSWzB0G1"
      },
      "source": [
        "## Подход 3: Ваше решение\n",
        "\n"
      ]
    },
    {
      "cell_type": "markdown",
      "metadata": {
        "id": "KPT5reW1B32U"
      },
      "source": [
        "Напишите функцию, которая принимает на вход загаданное число и возвращает число попыток угадывания. "
      ]
    },
    {
      "cell_type": "markdown",
      "metadata": {
        "id": "UDeCIsG9CACE"
      },
      "source": [
        "Оценим качество вашего алгоритма:"
      ]
    },
    {
      "cell_type": "code",
      "execution_count": null,
      "metadata": {
        "colab": {
          "base_uri": "https://localhost:8080/",
          "height": 200
        },
        "id": "giSKBUmgCAeh",
        "outputId": "aa06e336-a0d3-463a-c842-fdf947874e85"
      },
      "outputs": [
        {
          "output_type": "stream",
          "name": "stdout",
          "text": [
            "Run benchmarking for game_core_v3: "
          ]
        },
        {
          "output_type": "error",
          "ename": "NameError",
          "evalue": "ignored",
          "traceback": [
            "\u001b[0;31m---------------------------------------------------------------------------\u001b[0m",
            "\u001b[0;31mNameError\u001b[0m                                 Traceback (most recent call last)",
            "\u001b[0;32m<ipython-input-1-f31f697db6ee>\u001b[0m in \u001b[0;36m<module>\u001b[0;34m()\u001b[0m\n\u001b[1;32m      1\u001b[0m \u001b[0mprint\u001b[0m\u001b[0;34m(\u001b[0m\u001b[0;34m'Run benchmarking for game_core_v3: '\u001b[0m\u001b[0;34m,\u001b[0m \u001b[0mend\u001b[0m\u001b[0;34m=\u001b[0m\u001b[0;34m''\u001b[0m\u001b[0;34m)\u001b[0m\u001b[0;34m\u001b[0m\u001b[0;34m\u001b[0m\u001b[0m\n\u001b[0;32m----> 2\u001b[0;31m \u001b[0mgame_core_v3\u001b[0m\u001b[0;34m(\u001b[0m\u001b[0;34m)\u001b[0m\u001b[0;34m\u001b[0m\u001b[0;34m\u001b[0m\u001b[0m\n\u001b[0m",
            "\u001b[0;31mNameError\u001b[0m: name 'game_core_v3' is not defined"
          ]
        }
      ],
      "source": [
        "print('Run benchmarking for game_core_v3: ', end='')\n",
        "game_core_v3()"
      ]
    },
    {
      "cell_type": "code",
      "execution_count": null,
      "metadata": {
        "id": "Q-fdGk_RpGIV"
      },
      "outputs": [],
      "source": [
        "import game_v2  "
      ]
    },
    {
      "cell_type": "markdown",
      "metadata": {
        "id": "7gc6XmUPC04X"
      },
      "source": [
        "Напомним, что для успешного решения задания программа должна угадывать число меньше чем за 20 попыток!"
      ]
    },
    {
      "cell_type": "code",
      "source": [
        "def game_core_v2(number: int = 1) -> int:\n",
        "    count = 1\n",
        "    mn, mx = 1, 100\n",
        "    predict = mx / 2\n",
        "    while number != predict:\n",
        "        count+=1\n",
        " \n",
        "        if number > predict: \n",
        "            mn = predict \n",
        "        \n",
        "        elif number < predict: \n",
        "            mx = predict \n",
        "        \n",
        "        predict = round((mx + mn) / 2)\n",
        "    \n",
        "    return count\n",
        " \n",
        "game_core_v2(24)"
      ],
      "metadata": {
        "colab": {
          "base_uri": "https://localhost:8080/"
        },
        "id": "0DR5WrNuA7zu",
        "outputId": "05ef9ddc-cdb3-4be7-f0de-5aeb3d32da30"
      },
      "execution_count": 1,
      "outputs": [
        {
          "output_type": "execute_result",
          "data": {
            "text/plain": [
              "6"
            ]
          },
          "metadata": {},
          "execution_count": 1
        }
      ]
    },
    {
      "cell_type": "code",
      "source": [
        ""
      ],
      "metadata": {
        "id": "6c-vmJQrBSaJ"
      },
      "execution_count": null,
      "outputs": []
    },
    {
      "cell_type": "code",
      "execution_count": null,
      "metadata": {
        "id": "e2VJSJPRBT9D",
        "outputId": "4a9e0cc4-faeb-4b3b-fbfb-49ee1967ed8b",
        "colab": {
          "base_uri": "https://localhost:8080/"
        }
      },
      "outputs": [
        {
          "output_type": "execute_result",
          "data": {
            "text/plain": [
              "78"
            ]
          },
          "metadata": {},
          "execution_count": 13
        }
      ],
      "source": [
        "def game_core_v2(number: int = 1) -> int:\n",
        "    \"\"\"Сначала устанавливаем любое random число, а потом уменьшаем\n",
        "    или увеличиваем его в зависимости от того, больше оно или меньше нужного.\n",
        "       Функция принимает загаданное число и возвращает число попытокarrow_up в readme\n",
        "       \n",
        "    Args:\n",
        "        number (int, optional): Загаданное число. Defaults to 1.\n",
        "\n",
        "    Returns:\n",
        "        int: Число попыток\n",
        "    \"\"\"\n",
        "    count = 0\n",
        "    predict = np.random.randint(1, 101)\n",
        "    \n",
        "    while number != predict:\n",
        "        count += 1\n",
        "        if number > predict:\n",
        "            predict += 1\n",
        "        elif number < predict:\n",
        "            predict -= 1\n",
        "\n",
        "    return count\n",
        "\n",
        "game_core_v2(99)"
      ]
    },
    {
      "cell_type": "code",
      "source": [
        "def random_predict(number: int=1) -> int:\n",
        "    \"\"\"Угадываем число ограничивая рамки подбора\n",
        "    \n",
        "    Args:\n",
        "        number (int, optional): Загаданное число. Defaults to 1.\n",
        "\n",
        "    Returns:\n",
        "        int: Число попыток\n",
        "    \"\"\"\n",
        "    count = 0 \n",
        "    \n",
        "    min, max = 1, 100\n",
        "    predict_number = max / 2\n",
        "    \n",
        "    while number != predict_number:\n",
        "        count+=1\n",
        "        # сужаем рамки поиска\n",
        "        if number > predict_number: \n",
        "            min = predict_number + 1.5\n",
        "        \n",
        "        elif number < predict_number: \n",
        "            max = predict_number - 1.5\n",
        "        \n",
        "        predict_number = round((max + min ) / 2) # разбиваем по полам новые рамки поиска\n",
        "        \n",
        "            \n",
        "    return(count)\n",
        "random_predict(50)"
      ],
      "metadata": {
        "colab": {
          "base_uri": "https://localhost:8080/"
        },
        "id": "zSPh_wN2-8lf",
        "outputId": "fffb3298-c593-4f64-9d7d-b5f0dfbd7afa"
      },
      "execution_count": null,
      "outputs": [
        {
          "output_type": "execute_result",
          "data": {
            "text/plain": [
              "0"
            ]
          },
          "metadata": {},
          "execution_count": 9
        }
      ]
    },
    {
      "cell_type": "code",
      "source": [
        "simplelist = [19, 242, 14, 152, 142, 1000]\n",
        "avr = mean(simplelist)\n",
        "print(avr)"
      ],
      "metadata": {
        "id": "wfkkoM6q5BM2"
      },
      "execution_count": null,
      "outputs": []
    }
  ],
  "metadata": {
    "colab": {
      "collapsed_sections": [],
      "name": "baseline.ipynb",
      "provenance": [],
      "include_colab_link": true
    },
    "interpreter": {
      "hash": "09714a52f69239c6409b3d073f9f3ca0ddb4056fc648d88f7346d3f36a5c4020"
    },
    "kernelspec": {
      "display_name": "Python 3.7.7 64-bit ('ds': conda)",
      "name": "python3"
    },
    "language_info": {
      "codemirror_mode": {
        "name": "ipython",
        "version": 3
      },
      "file_extension": ".py",
      "mimetype": "text/x-python",
      "name": "python",
      "nbconvert_exporter": "python",
      "pygments_lexer": "ipython3",
      "version": "3.7.7"
    }
  },
  "nbformat": 4,
  "nbformat_minor": 0
}